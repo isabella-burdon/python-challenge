{
 "cells": [
  {
   "cell_type": "code",
   "execution_count": null,
   "id": "aaf65d12-f457-4862-8458-cc67881432ac",
   "metadata": {},
   "outputs": [],
   "source": [
    "# Your task is to create a Python script that analyzes the votes and calculates each of the following values:\n",
    "\n",
    "    # The total number of votes cast\n",
    "    # A complete list of candidates who received votes\n",
    "    # The percentage of votes each candidate won\n",
    "    # The total number of votes each candidate won\n",
    "    # The winner of the election based on popular vote"
   ]
  },
  {
   "cell_type": "code",
   "execution_count": null,
   "id": "422d05d9-73fc-4270-83d0-61929398eb18",
   "metadata": {},
   "outputs": [],
   "source": [
    "# Your analysis should align with the following results:\n",
    "\n",
    "    # Election Results\n",
    "    # -------------------------\n",
    "    # Total Votes: 369711\n",
    "    # -------------------------\n",
    "    # Charles Casper Stockham: 23.049% (85213)\n",
    "    # Diana DeGette: 73.812% (272892)\n",
    "    # Raymon Anthony Doane: 3.139% (11606)\n",
    "    # -------------------------\n",
    "    # Winner: Diana DeGette\n",
    "    # -------------------------"
   ]
  },
  {
   "cell_type": "code",
   "execution_count": null,
   "id": "ee4a0e1c-b9b6-4426-9823-dbcb45ff670a",
   "metadata": {},
   "outputs": [],
   "source": [
    "# In addition, your final script should both print the analysis to the terminal and export a text file with the results."
   ]
  },
  {
   "cell_type": "code",
   "execution_count": 5,
   "id": "22fb82fb-114d-4471-bffd-c3d269a6a4f7",
   "metadata": {},
   "outputs": [],
   "source": [
    "import pandas as pd"
   ]
  },
  {
   "cell_type": "code",
   "execution_count": 4,
   "id": "42c9e126-8af0-4a69-b7b6-e5bf51b8a8ec",
   "metadata": {},
   "outputs": [],
   "source": [
    "in_path = \"Starter_Code/PyPoll/Resources/election_data.csv\"\n",
    "out_path = \"Output/election_results.txt\""
   ]
  },
  {
   "cell_type": "code",
   "execution_count": 3,
   "id": "2b8817dc-661b-44ce-bd19-c347078f7252",
   "metadata": {},
   "outputs": [
    {
     "data": {
      "text/html": [
       "<div>\n",
       "<style scoped>\n",
       "    .dataframe tbody tr th:only-of-type {\n",
       "        vertical-align: middle;\n",
       "    }\n",
       "\n",
       "    .dataframe tbody tr th {\n",
       "        vertical-align: top;\n",
       "    }\n",
       "\n",
       "    .dataframe thead th {\n",
       "        text-align: right;\n",
       "    }\n",
       "</style>\n",
       "<table border=\"1\" class=\"dataframe\">\n",
       "  <thead>\n",
       "    <tr style=\"text-align: right;\">\n",
       "      <th></th>\n",
       "      <th>Ballot ID</th>\n",
       "      <th>County</th>\n",
       "      <th>Candidate</th>\n",
       "    </tr>\n",
       "  </thead>\n",
       "  <tbody>\n",
       "    <tr>\n",
       "      <th>0</th>\n",
       "      <td>1323913</td>\n",
       "      <td>Jefferson</td>\n",
       "      <td>Charles Casper Stockham</td>\n",
       "    </tr>\n",
       "    <tr>\n",
       "      <th>1</th>\n",
       "      <td>1005842</td>\n",
       "      <td>Jefferson</td>\n",
       "      <td>Charles Casper Stockham</td>\n",
       "    </tr>\n",
       "    <tr>\n",
       "      <th>2</th>\n",
       "      <td>1880345</td>\n",
       "      <td>Jefferson</td>\n",
       "      <td>Charles Casper Stockham</td>\n",
       "    </tr>\n",
       "    <tr>\n",
       "      <th>3</th>\n",
       "      <td>1600337</td>\n",
       "      <td>Jefferson</td>\n",
       "      <td>Charles Casper Stockham</td>\n",
       "    </tr>\n",
       "    <tr>\n",
       "      <th>4</th>\n",
       "      <td>1835994</td>\n",
       "      <td>Jefferson</td>\n",
       "      <td>Charles Casper Stockham</td>\n",
       "    </tr>\n",
       "  </tbody>\n",
       "</table>\n",
       "</div>"
      ],
      "text/plain": [
       "   Ballot ID     County                Candidate\n",
       "0    1323913  Jefferson  Charles Casper Stockham\n",
       "1    1005842  Jefferson  Charles Casper Stockham\n",
       "2    1880345  Jefferson  Charles Casper Stockham\n",
       "3    1600337  Jefferson  Charles Casper Stockham\n",
       "4    1835994  Jefferson  Charles Casper Stockham"
      ]
     },
     "execution_count": 3,
     "metadata": {},
     "output_type": "execute_result"
    }
   ],
   "source": [
    "df_polls = pd.read_csv(in_path)\n",
    "df_polls.head()"
   ]
  },
  {
   "cell_type": "code",
   "execution_count": 6,
   "id": "ca99ef70-5fae-468e-a8a4-1a37156b2614",
   "metadata": {},
   "outputs": [
    {
     "name": "stdout",
     "output_type": "stream",
     "text": [
      "369711\n"
     ]
    }
   ],
   "source": [
    "# The total number of votes cast\n",
    "total_votes = len(df_polls['Ballot ID'])\n",
    "print(total_votes)"
   ]
  },
  {
   "cell_type": "code",
   "execution_count": 8,
   "id": "7d54ba64-84dd-441d-8f43-d369d3e2030b",
   "metadata": {},
   "outputs": [
    {
     "name": "stdout",
     "output_type": "stream",
     "text": [
      "['Charles Casper Stockham' 'Diana DeGette' 'Raymon Anthony Doane']\n"
     ]
    }
   ],
   "source": [
    "# A complete list of candidates who received votes\n",
    "candidates_list = df_polls['Candidate'].unique()\n",
    "print(candidates_list)"
   ]
  },
  {
   "cell_type": "code",
   "execution_count": 27,
   "id": "58fdd077-3fd7-4b54-a3d9-7150788571d1",
   "metadata": {},
   "outputs": [
    {
     "data": {
      "text/plain": [
       "'Charles Casper Stockham'"
      ]
     },
     "execution_count": 27,
     "metadata": {},
     "output_type": "execute_result"
    }
   ],
   "source": [
    "df_polls['Candidate'].unique()[0]"
   ]
  },
  {
   "cell_type": "code",
   "execution_count": 32,
   "id": "ea029637-99f6-4295-8822-1e73976fe4d3",
   "metadata": {},
   "outputs": [
    {
     "name": "stdout",
     "output_type": "stream",
     "text": [
      "85213\n"
     ]
    }
   ],
   "source": [
    "votes_charles = df_polls[df_polls['Candidate'] == df_polls['Candidate'].unique()[0]]\n",
    "print(len(votes_charles))"
   ]
  },
  {
   "cell_type": "code",
   "execution_count": 34,
   "id": "c0d00d1e-9b8c-48e6-b0c3-58c503d057c8",
   "metadata": {},
   "outputs": [
    {
     "data": {
      "text/plain": [
       "3"
      ]
     },
     "execution_count": 34,
     "metadata": {},
     "output_type": "execute_result"
    }
   ],
   "source": [
    "len(df_polls['Candidate'].unique())"
   ]
  },
  {
   "cell_type": "code",
   "execution_count": 33,
   "id": "921b27fc-b1f9-4e9f-8850-3e39e3ffb63b",
   "metadata": {},
   "outputs": [
    {
     "name": "stdout",
     "output_type": "stream",
     "text": [
      "85213\n",
      "23.049\n",
      "272892\n",
      "73.812\n",
      "11606\n",
      "3.139\n"
     ]
    }
   ],
   "source": [
    "# The percentage of votes each candidate won\n",
    "# The total number of votes each candidate won\n",
    "\n",
    "votes_charles = df_polls[df_polls['Candidate'] == df_polls['Candidate'].unique()[0]]\n",
    "print(len(votes_charles))\n",
    "percent_charles = len(votes_charles)/total_votes*100\n",
    "print(round(percent_charles, 3))\n",
    "\n",
    "votes_diana = df_polls[df_polls['Candidate'] == df_polls['Candidate'].unique()[1]]\n",
    "print(len(votes_diana))\n",
    "percent_diana = len(votes_diana)/total_votes*100\n",
    "print(round(percent_diana, 3))\n",
    "\n",
    "votes_raymond = df_polls[df_polls['Candidate'] == df_polls['Candidate'].unique()[2]]\n",
    "print(len(votes_raymond))\n",
    "percent_raymond = len(votes_raymond)/total_votes*100\n",
    "print(round(percent_raymond, 3))"
   ]
  },
  {
   "cell_type": "code",
   "execution_count": 51,
   "id": "f3c3c1ac-9747-4820-8b64-f8d61e87c4dd",
   "metadata": {},
   "outputs": [
    {
     "name": "stdout",
     "output_type": "stream",
     "text": [
      "[['Candidate', 'Votes', 'Percent vote'], ['Charles Casper Stockham', 85213, 23.049], ['Diana DeGette', 272892, 73.812], ['Raymon Anthony Doane', 11606, 3.139]]\n",
      "                 Candidate   Votes  Percent vote\n",
      "0  Charles Casper Stockham   85213        23.049\n",
      "1            Diana DeGette  272892        73.812\n",
      "2     Raymon Anthony Doane   11606         3.139\n"
     ]
    }
   ],
   "source": [
    "poll_results = [['Candidate', 'Votes', 'Percent vote']]\n",
    "\n",
    "for candidate in df_polls['Candidate'].unique():\n",
    "    votes = len(df_polls[df_polls['Candidate'] == candidate])\n",
    "    percent = (votes / total_votes) * 100\n",
    "    poll_results.append([candidate, votes, round(percent, 3)])\n",
    "\n",
    "df_poll_results = pd.DataFrame(poll_results[1:], columns=poll_results[0])\n",
    "print(poll_results)\n",
    "print(df_poll_results)"
   ]
  },
  {
   "cell_type": "code",
   "execution_count": 60,
   "id": "361c1939-c3d9-453a-b0d0-057820cfdd5d",
   "metadata": {},
   "outputs": [],
   "source": [
    "# The winner of the election based on popular vote\n",
    "winner = df_poll_results['Candidate'][df_poll_results['Percent vote'].idxmax()]"
   ]
  },
  {
   "cell_type": "code",
   "execution_count": 58,
   "id": "3084bd5d-9a54-4eab-84ae-22628c163f38",
   "metadata": {},
   "outputs": [
    {
     "data": {
      "text/plain": [
       "'Charles Casper Stockham'"
      ]
     },
     "execution_count": 58,
     "metadata": {},
     "output_type": "execute_result"
    }
   ],
   "source": [
    "df_poll_results.iloc[0,0]"
   ]
  },
  {
   "cell_type": "code",
   "execution_count": 62,
   "id": "0643c738-e02b-4da5-abaf-401fa39d2aff",
   "metadata": {},
   "outputs": [
    {
     "name": "stdout",
     "output_type": "stream",
     "text": [
      "\n",
      "    Election Results\n",
      "    -------------------------\n",
      "    Total Votes: 369711\n",
      "    -------------------------\n",
      "    Charles Casper Stockham: 23.049% (85213) \n",
      "    Diana DeGette: 73.812% (272892) \n",
      "    Raymon Anthony Doane: 3.139% (11606) \n",
      "    -------------------------\n",
      "    Winner: Diana DeGette\n",
      "    -------------------------\n"
     ]
    }
   ],
   "source": [
    "print(f\"\"\"\n",
    "    Election Results\n",
    "    -------------------------\n",
    "    Total Votes: {total_votes}\n",
    "    -------------------------\n",
    "    {df_poll_results.iloc[0,0]}: {df_poll_results.iloc[0,2]}% ({df_poll_results.iloc[0,1]}) \n",
    "    {df_poll_results.iloc[1,0]}: {df_poll_results.iloc[1,2]}% ({df_poll_results.iloc[1,1]}) \n",
    "    {df_poll_results.iloc[2,0]}: {df_poll_results.iloc[2,2]}% ({df_poll_results.iloc[2,1]}) \n",
    "    -------------------------\n",
    "    Winner: {winner}\n",
    "    -------------------------\"\"\")"
   ]
  }
 ],
 "metadata": {
  "kernelspec": {
   "display_name": "Python 3 (ipykernel)",
   "language": "python",
   "name": "python3"
  },
  "language_info": {
   "codemirror_mode": {
    "name": "ipython",
    "version": 3
   },
   "file_extension": ".py",
   "mimetype": "text/x-python",
   "name": "python",
   "nbconvert_exporter": "python",
   "pygments_lexer": "ipython3",
   "version": "3.10.12"
  }
 },
 "nbformat": 4,
 "nbformat_minor": 5
}
