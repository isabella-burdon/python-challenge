{
 "cells": [
  {
   "cell_type": "code",
   "execution_count": null,
   "id": "db01811b-1415-456d-bf0f-87ce89770da4",
   "metadata": {},
   "outputs": [],
   "source": [
    "# Your task is to create a Python script that analyses the records to calculate each of the following values:\n",
    "\n",
    "    # The total number of months included in the dataset\n",
    "    # The net total amount of \"Profit/Losses\" over the entire period\n",
    "    # The changes in \"Profit/Losses\" over the entire period, and then the average of those changes\n",
    "    # The greatest increase in profits (date and amount) over the entire period\n",
    "    # The greatest decrease in profits (date and amount) over the entire period"
   ]
  },
  {
   "cell_type": "code",
   "execution_count": null,
   "id": "9b9502fc-ac9c-45a3-ba11-14beb02ab8f9",
   "metadata": {},
   "outputs": [],
   "source": [
    "# Your analysis should align with the following results:\n",
    "\n",
    "    # Financial Analysis\n",
    "    # ----------------------------\n",
    "    # Total Months: 86\n",
    "    # Total: $22564198\n",
    "    # Average Change: $-8311.11\n",
    "    # Greatest Increase in Profits: Aug-16 ($1862002)\n",
    "    # Greatest Decrease in Profits: Feb-14 ($-1825558)"
   ]
  },
  {
   "cell_type": "code",
   "execution_count": null,
   "id": "a54f0b82-05c2-4901-a987-cf7b69cc85a1",
   "metadata": {},
   "outputs": [],
   "source": [
    "# In addition, your final script should both print the analysis to the terminal and export a text file with the results."
   ]
  },
  {
   "cell_type": "code",
   "execution_count": 5,
   "id": "520e914b-17ae-4894-be97-06475bc1acee",
   "metadata": {},
   "outputs": [],
   "source": [
    "import os\n",
    "import pandas as pd"
   ]
  },
  {
   "cell_type": "code",
   "execution_count": 8,
   "id": "68ce7a6d-eaf1-47c0-9f47-d8eef2da1226",
   "metadata": {},
   "outputs": [],
   "source": [
    "in_path = \"Starter_Code/PyBank/Resources/budget_data.csv\"\n",
    "out_path = \"Output\""
   ]
  },
  {
   "cell_type": "code",
   "execution_count": 23,
   "id": "a0582f4a-2687-4d6c-ac46-039ad262be71",
   "metadata": {},
   "outputs": [
    {
     "data": {
      "text/html": [
       "<div>\n",
       "<style scoped>\n",
       "    .dataframe tbody tr th:only-of-type {\n",
       "        vertical-align: middle;\n",
       "    }\n",
       "\n",
       "    .dataframe tbody tr th {\n",
       "        vertical-align: top;\n",
       "    }\n",
       "\n",
       "    .dataframe thead th {\n",
       "        text-align: right;\n",
       "    }\n",
       "</style>\n",
       "<table border=\"1\" class=\"dataframe\">\n",
       "  <thead>\n",
       "    <tr style=\"text-align: right;\">\n",
       "      <th></th>\n",
       "      <th>Date</th>\n",
       "      <th>Profit/Losses</th>\n",
       "    </tr>\n",
       "  </thead>\n",
       "  <tbody>\n",
       "    <tr>\n",
       "      <th>81</th>\n",
       "      <td>Oct-16</td>\n",
       "      <td>-729004</td>\n",
       "    </tr>\n",
       "    <tr>\n",
       "      <th>82</th>\n",
       "      <td>Nov-16</td>\n",
       "      <td>-112209</td>\n",
       "    </tr>\n",
       "    <tr>\n",
       "      <th>83</th>\n",
       "      <td>Dec-16</td>\n",
       "      <td>516313</td>\n",
       "    </tr>\n",
       "    <tr>\n",
       "      <th>84</th>\n",
       "      <td>Jan-17</td>\n",
       "      <td>607208</td>\n",
       "    </tr>\n",
       "    <tr>\n",
       "      <th>85</th>\n",
       "      <td>Feb-17</td>\n",
       "      <td>382539</td>\n",
       "    </tr>\n",
       "  </tbody>\n",
       "</table>\n",
       "</div>"
      ],
      "text/plain": [
       "      Date  Profit/Losses\n",
       "81  Oct-16        -729004\n",
       "82  Nov-16        -112209\n",
       "83  Dec-16         516313\n",
       "84  Jan-17         607208\n",
       "85  Feb-17         382539"
      ]
     },
     "execution_count": 23,
     "metadata": {},
     "output_type": "execute_result"
    }
   ],
   "source": [
    "df_budget = pd.read_csv(in_path)\n",
    "df_budget.tail()"
   ]
  },
  {
   "cell_type": "code",
   "execution_count": 14,
   "id": "1cb80bb4-c7a8-4ca5-b15c-2b2c8e65ba82",
   "metadata": {},
   "outputs": [
    {
     "data": {
      "text/plain": [
       "86"
      ]
     },
     "execution_count": 14,
     "metadata": {},
     "output_type": "execute_result"
    }
   ],
   "source": [
    "# The total number of months included in the dataset\n",
    "len(df_budget['Date'].unique())"
   ]
  },
  {
   "cell_type": "code",
   "execution_count": 16,
   "id": "142ea10f-847d-47a3-ba55-d792dd9184f8",
   "metadata": {},
   "outputs": [
    {
     "data": {
      "text/plain": [
       "22564198"
      ]
     },
     "execution_count": 16,
     "metadata": {},
     "output_type": "execute_result"
    }
   ],
   "source": [
    "# The net total amount of \"Profit/Losses\" over the entire period\n",
    "df_budget['Profit/Losses'].sum()"
   ]
  },
  {
   "cell_type": "code",
   "execution_count": 21,
   "id": "fd99f643-3c68-4571-86b0-a6fc0375a699",
   "metadata": {},
   "outputs": [
    {
     "name": "stdout",
     "output_type": "stream",
     "text": [
      "1443517\n"
     ]
    }
   ],
   "source": [
    "result = df_budget['Profit/Losses'].iloc[0] - df_budget['Profit/Losses'].iloc[1]\n",
    "print(result)"
   ]
  },
  {
   "cell_type": "code",
   "execution_count": 20,
   "id": "c8d35b2f-6434-456c-af5b-ffa22a0b729c",
   "metadata": {},
   "outputs": [
    {
     "name": "stdout",
     "output_type": "stream",
     "text": [
      "-631156\n"
     ]
    }
   ],
   "source": [
    "result = df_budget['Profit/Losses'].iloc[1] - df_budget['Profit/Losses'].iloc[2]\n",
    "print(result)"
   ]
  },
  {
   "cell_type": "code",
   "execution_count": 26,
   "id": "228a6f8e-7484-4dd0-8235-bedd201d65b6",
   "metadata": {},
   "outputs": [
    {
     "name": "stdout",
     "output_type": "stream",
     "text": [
      "[-1443517, 631156, -1004755, 1581126, -289272, -1098929, 1167557, -806093, 1124485, -1736491, -408383, 604557, -294345, 1327485, 394323, 243585, -617439, -1530577, 1390390, -1130397, 1293604, 641758, -337413, -52031, -937192, 863841, -76245, -100481, -960729, 591856, 54930, 680102, -250254, -840415, 582358, -48628, -135256, 978586, -599210, -442789, 652924, -1005714, 1167373, -234900, -165147, -52275, -302320, 719028, -1825558, 1287083, -48303, 210234, -236414, 585165, -1400632, 839777, 465229, 317811, -760202, -71868, 795457, -182685, -1242836, 1371884, -445193, 10025, -1043998, 1350395, 80538, -1223250, 104148, 843924, -1808664, 1505005, 306402, -143603, -1266937, -162519, 1862002, -52986, -1627245, 616795, 628522, 90895, -224669]\n",
      "-8311.11\n"
     ]
    }
   ],
   "source": [
    "# The changes in \"Profit/Losses\" over the entire period, and then the average of those changes\n",
    "\n",
    "# list of changes\n",
    "delta_list = []\n",
    "\n",
    "for i in range(len(df_budget['Profit/Losses']) - 1):\n",
    "    delta = df_budget['Profit/Losses'].iloc[i + 1] - df_budget['Profit/Losses'].iloc[i]\n",
    "    delta_list.append(delta)\n",
    "\n",
    "print(delta_list)\n",
    "\n",
    "average_delta = sum(delta_list) / len(delta_list)\n",
    "print(round(average_delta, 2))"
   ]
  },
  {
   "cell_type": "code",
   "execution_count": 38,
   "id": "6445b245-7956-4ea3-9288-898c3a28a3d1",
   "metadata": {},
   "outputs": [
    {
     "name": "stdout",
     "output_type": "stream",
     "text": [
      "1862002\n"
     ]
    },
    {
     "data": {
      "text/plain": [
       "'Aug-16'"
      ]
     },
     "execution_count": 38,
     "metadata": {},
     "output_type": "execute_result"
    }
   ],
   "source": [
    "# The greatest increase in profits (date and amount) over the entire period\n",
    "max_delta = max(delta_list)\n",
    "print(max_delta)\n",
    "df_budget['Date'].iloc[delta_list.index(max_delta) + 1]"
   ]
  },
  {
   "cell_type": "code",
   "execution_count": 39,
   "id": "6d69d04f-2a04-4b34-8941-1c244d2d9dbf",
   "metadata": {},
   "outputs": [
    {
     "name": "stdout",
     "output_type": "stream",
     "text": [
      "-1825558\n"
     ]
    },
    {
     "data": {
      "text/plain": [
       "'Feb-14'"
      ]
     },
     "execution_count": 39,
     "metadata": {},
     "output_type": "execute_result"
    }
   ],
   "source": [
    "# Greatest Decrease in Profits: Feb-14 ($-1825558)\n",
    "min_delta = min(delta_list)\n",
    "print(min_delta)\n",
    "df_budget['Date'].iloc[delta_list.index(min_delta) + 1]"
   ]
  }
 ],
 "metadata": {
  "kernelspec": {
   "display_name": "Python 3 (ipykernel)",
   "language": "python",
   "name": "python3"
  },
  "language_info": {
   "codemirror_mode": {
    "name": "ipython",
    "version": 3
   },
   "file_extension": ".py",
   "mimetype": "text/x-python",
   "name": "python",
   "nbconvert_exporter": "python",
   "pygments_lexer": "ipython3",
   "version": "3.10.12"
  }
 },
 "nbformat": 4,
 "nbformat_minor": 5
}
